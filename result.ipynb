{
 "cells": [
  {
   "cell_type": "code",
   "execution_count": null,
   "metadata": {},
   "outputs": [],
   "source": [
    "import os\n",
    "import pickle\n",
    "import warnings\n",
    "import pandas as pd\n",
    "from sklearn.metrics import f1_score"
   ]
  },
  {
   "cell_type": "code",
   "execution_count": null,
   "metadata": {},
   "outputs": [],
   "source": [
    "warnings.filterwarnings('ignore')\n",
    "\n",
    "inds_path = 'data/inds.pkl'\n",
    "gt_path = 'data/gt.csv'\n",
    "sub_path = 'submissions'\n",
    "\n",
    "def evaluate(file_name, full_data=False):\n",
    "    results = dict()\n",
    "    gt_data = pd.read_csv(gt_path)\n",
    "    submission = pd.read_csv(os.path.join(sub_path, file_name))\n",
    "    with open(inds_path, 'rb') as f:\n",
    "        inds = pickle.load(f)\n",
    "    gender_true, nation_true = gt_data.GENDER.values, gt_data.NATION.values\n",
    "    gender_pred, nation_pred = submission.GENDER.values, submission.NATION.values\n",
    "    results['F1_GENDER_PUBLIC'] = f1_score(gender_true[inds], gender_pred[inds], average='macro')\n",
    "    results['F1_NATION_MACRO_PUBLIC'] = f1_score(nation_true[inds], nation_pred[inds], average='macro')\n",
    "    results['F1_NATION_MICRO_PUBLIC'] = f1_score(nation_true[inds], nation_pred[inds], average='micro')\n",
    "    results['F1_PUBLIC'] = (results['F1_GENDER_PUBLIC'] * (1 / 10)) + \\\n",
    "                           (results['F1_NATION_MACRO_PUBLIC'] * (6 / 10)) + \\\n",
    "                           (results['F1_NATION_MICRO_PUBLIC'] * (3 / 10))\n",
    "    if full_data:\n",
    "        results['F1_GENDER_PRIVATE'] = f1_score(gender_true, gender_pred, average='macro')\n",
    "        results['F1_NATION_MACRO_PRIVATE'] = f1_score(nation_true, nation_pred, average='macro')\n",
    "        results['F1_NATION_MICRO_PRIVATE'] = f1_score(nation_true, nation_pred, average='micro')\n",
    "        results['F1_PRIVATE'] = (results['F1_GENDER_PRIVATE'] * (1 / 10)) + \\\n",
    "                                (results['F1_NATION_MACRO_PRIVATE'] * (6 / 10)) + \\\n",
    "                                (results['F1_NATION_MICRO_PRIVATE'] * (3 / 10))\n",
    "    return results"
   ]
  },
  {
   "cell_type": "code",
   "execution_count": null,
   "metadata": {},
   "outputs": [],
   "source": [
    "evaluate('final.csv', full_data=True)"
   ]
  },
  {
   "cell_type": "code",
   "execution_count": null,
   "metadata": {},
   "outputs": [],
   "source": []
  }
 ],
 "metadata": {
  "kernelspec": {
   "display_name": "Python 3",
   "language": "python",
   "name": "python3"
  },
  "language_info": {
   "codemirror_mode": {
    "name": "ipython",
    "version": 3
   },
   "file_extension": ".py",
   "mimetype": "text/x-python",
   "name": "python",
   "nbconvert_exporter": "python",
   "pygments_lexer": "ipython3",
   "version": "3.7.4"
  }
 },
 "nbformat": 4,
 "nbformat_minor": 2
}
